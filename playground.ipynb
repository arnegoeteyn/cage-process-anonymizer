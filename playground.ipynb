{
 "cells": [
  {
   "cell_type": "code",
   "execution_count": null,
   "id": "78e7a0d6-ab95-469f-ba33-04cda844b013",
   "metadata": {},
   "outputs": [],
   "source": [
    "import logging\n",
    "import sys\n",
    "\n",
    "# DEBUG log level will show HTTP messages\n",
    "logging.basicConfig(level=logging.DEBUG, format='%(asctime)s - %(levelname)s - %(message)s') # filename='playground.log'"
   ]
  },
  {
   "cell_type": "code",
   "execution_count": 1,
   "id": "90a9c555-72ff-4091-9e8b-05c7f216f181",
   "metadata": {},
   "outputs": [
    {
     "name": "stderr",
     "output_type": "stream",
     "text": [
      "ERROR:root:Failed processing event: Invalid URL 'None/clients/None/applications/None/activeUsers': No scheme supplied. Perhaps you meant http://None/clients/None/applications/None/activeUsers?\n"
     ]
    }
   ],
   "source": [
    "import process\n",
    "\n",
    "# process one event with the process function\n",
    "process.processEvent({\n",
    "    #'userIds' : []   # providing no userIds (i.e. None value) will cause all users to be processed\n",
    "})"
   ]
  }
 ],
 "metadata": {
  "kernelspec": {
   "display_name": "Python 3 (ipykernel)",
   "language": "python",
   "name": "python3"
  },
  "language_info": {
   "codemirror_mode": {
    "name": "ipython",
    "version": 3
   },
   "file_extension": ".py",
   "mimetype": "text/x-python",
   "name": "python",
   "nbconvert_exporter": "python",
   "pygments_lexer": "ipython3",
   "version": "3.9.6"
  }
 },
 "nbformat": 4,
 "nbformat_minor": 5
}
