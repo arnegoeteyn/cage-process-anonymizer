{
 "cells": [
  {
   "cell_type": "code",
   "execution_count": null,
   "metadata": {
    "collapsed": true
   },
   "outputs": [],
   "source": [
    "{\n",
    "    \"cells\": [\n",
    "        {\n",
    "            \"cell_type\": \"code\",\n",
    "            \"execution_count\": null,\n",
    "            \"id\": \"78e7a0d6-ab95-469f-ba33-04cda844b013\",\n",
    "            \"metadata\": {},\n",
    "            \"outputs\": [],\n",
    "            \"source\": [\n",
    "                \"import logging\\n\",\n",
    "                \"import sys\\n\",\n",
    "                \"\\n\",\n",
    "                \"# DEBUG log level will show HTTP messages\\n\",\n",
    "                \"logging.basicConfig(level=logging.DEBUG, format='%(asctime)s - %(levelname)s - %(message)s') # filename='playground.log'\"\n",
    "            ]\n",
    "        },\n",
    "        {\n",
    "            \"cell_type\": \"code\",\n",
    "            \"execution_count\": 1,\n",
    "            \"id\": \"90a9c555-72ff-4091-9e8b-05c7f216f181\",\n",
    "            \"metadata\": {},\n",
    "            \"outputs\": [\n",
    "                {\n",
    "                    \"name\": \"stderr\",\n",
    "                    \"output_type\": \"stream\",\n",
    "                    \"text\": [\n",
    "                        \"ERROR:root:Failed processing event: Invalid URL 'None/clients/None/applications/None/activeUsers': No scheme supplied. Perhaps you meant http://None/clients/None/applications/None/activeUsers?\\n\"\n",
    "                    ]\n",
    "                }\n",
    "            ],\n",
    "            \"source\": [\n",
    "                \"import process\\n\",\n",
    "                \"\\n\",\n",
    "                \"# process one event with the process function\\n\",\n",
    "                \"process.processEvent({\\n\",\n",
    "                \"    #'userIds' : []   # providing no userIds (i.e. None value) will cause all users to be processed\\n\",\n",
    "                \"})\"\n",
    "            ]\n",
    "        }\n",
    "    ],\n",
    "    \"metadata\": {\n",
    "        \"kernelspec\": {\n",
    "            \"display_name\": \"Python 3 (ipykernel)\",\n",
    "            \"language\": \"python\",\n",
    "            \"name\": \"python3\"\n",
    "        },\n",
    "        \"language_info\": {\n",
    "            \"codemirror_mode\": {\n",
    "                \"name\": \"ipython\",\n",
    "                \"version\": 3\n",
    "            },\n",
    "            \"file_extension\": \".py\",\n",
    "            \"mimetype\": \"text/x-python\",\n",
    "            \"name\": \"python\",\n",
    "            \"nbconvert_exporter\": \"python\",\n",
    "            \"pygments_lexer\": \"ipython3\",\n",
    "            \"version\": \"3.9.6\"\n",
    "        }\n",
    "    },\n",
    "    \"nbformat\": 4,\n",
    "    \"nbformat_minor\": 5\n",
    "}"
   ]
  }
 ],
 "metadata": {
  "kernelspec": {
   "display_name": "Python 3",
   "language": "python",
   "name": "python3"
  },
  "language_info": {
   "codemirror_mode": {
    "name": "ipython",
    "version": 2
   },
   "file_extension": ".py",
   "mimetype": "text/x-python",
   "name": "python",
   "nbconvert_exporter": "python",
   "pygments_lexer": "ipython2",
   "version": "2.7.6"
  }
 },
 "nbformat": 4,
 "nbformat_minor": 0
}